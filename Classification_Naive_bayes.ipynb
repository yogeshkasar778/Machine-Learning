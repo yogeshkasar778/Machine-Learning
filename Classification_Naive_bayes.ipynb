{
 "cells": [
  {
   "cell_type": "markdown",
   "id": "c3831f99-184a-469f-b218-7eb57c214ed4",
   "metadata": {},
   "source": [
    " # **Naive Bayes Classifier algorithm:**"
   ]
  },
  {
   "cell_type": "markdown",
   "id": "171234f4-6695-402d-956a-3afaf4820e82",
   "metadata": {},
   "source": [
    "**Q.What is naive bayes classifier?**\n",
    "\n",
    "Naive Bayes Classifier is a machine learning algorithm based on supervised learning, that can be used for solving classification problems.\n",
    "\n",
    "It is a parabailistic classifier which means it predicts on the basis of the probalility of an object.\n",
    "\n",
    "ex. Toss the coin         Toss the 2 coin\n",
    "\n",
    "    Sample space:         Sample space:\n",
    "    \n",
    "    {H,T}                 {HH,HT,TH,TT}"
   ]
  },
  {
   "cell_type": "markdown",
   "id": "fea43c25-351e-493c-aef8-8490a926ec9b",
   "metadata": {},
   "source": [
    "**Q.Why the name naive bayes?**\n",
    "\n",
    "It is comparises of two words naive and Bayes.\n",
    "\n",
    "**Naive:** It's called naive because it makes the all assumption that all attributes are independant of each other.\n",
    "\n",
    "EX. Identify the fuirt\n",
    "    feature:\n",
    "    color: green\n",
    "    shape: oval\n",
    "    test: sweet\n",
    "    \n",
    "    fruit={green,oval,sweet} => Watermelon\n",
    "\n",
    "**Application:**\n",
    "\n",
    "-Face Recoginition\n",
    "\n",
    "-Weather forecast\n",
    "\n",
    "-News Categorization"
   ]
  },
  {
   "cell_type": "markdown",
   "id": "97d00808-1d22-434e-a363-b798896d9950",
   "metadata": {},
   "source": [
    "**Practise Naive Bayes Demo:**"
   ]
  },
  {
   "cell_type": "code",
   "execution_count": 1,
   "id": "01d62d27-329d-4728-8b74-5a66b9546207",
   "metadata": {},
   "outputs": [],
   "source": [
    "#importing pandas librires\n",
    "import pandas as pd\n",
    "data=pd.read_csv('Social_Network_Ads.csv')"
   ]
  },
  {
   "cell_type": "code",
   "execution_count": 2,
   "id": "604e63e1-da08-4507-83be-8fb4263e619b",
   "metadata": {},
   "outputs": [
    {
     "data": {
      "text/html": [
       "<div>\n",
       "<style scoped>\n",
       "    .dataframe tbody tr th:only-of-type {\n",
       "        vertical-align: middle;\n",
       "    }\n",
       "\n",
       "    .dataframe tbody tr th {\n",
       "        vertical-align: top;\n",
       "    }\n",
       "\n",
       "    .dataframe thead th {\n",
       "        text-align: right;\n",
       "    }\n",
       "</style>\n",
       "<table border=\"1\" class=\"dataframe\">\n",
       "  <thead>\n",
       "    <tr style=\"text-align: right;\">\n",
       "      <th></th>\n",
       "      <th>User ID</th>\n",
       "      <th>Gender</th>\n",
       "      <th>Age</th>\n",
       "      <th>EstimatedSalary</th>\n",
       "      <th>Purchased</th>\n",
       "    </tr>\n",
       "  </thead>\n",
       "  <tbody>\n",
       "    <tr>\n",
       "      <th>0</th>\n",
       "      <td>15624510</td>\n",
       "      <td>Male</td>\n",
       "      <td>19</td>\n",
       "      <td>19000</td>\n",
       "      <td>0</td>\n",
       "    </tr>\n",
       "    <tr>\n",
       "      <th>1</th>\n",
       "      <td>15810944</td>\n",
       "      <td>Male</td>\n",
       "      <td>35</td>\n",
       "      <td>20000</td>\n",
       "      <td>0</td>\n",
       "    </tr>\n",
       "    <tr>\n",
       "      <th>2</th>\n",
       "      <td>15668575</td>\n",
       "      <td>Female</td>\n",
       "      <td>26</td>\n",
       "      <td>43000</td>\n",
       "      <td>0</td>\n",
       "    </tr>\n",
       "    <tr>\n",
       "      <th>3</th>\n",
       "      <td>15603246</td>\n",
       "      <td>Female</td>\n",
       "      <td>27</td>\n",
       "      <td>57000</td>\n",
       "      <td>0</td>\n",
       "    </tr>\n",
       "    <tr>\n",
       "      <th>4</th>\n",
       "      <td>15804002</td>\n",
       "      <td>Male</td>\n",
       "      <td>19</td>\n",
       "      <td>76000</td>\n",
       "      <td>0</td>\n",
       "    </tr>\n",
       "    <tr>\n",
       "      <th>...</th>\n",
       "      <td>...</td>\n",
       "      <td>...</td>\n",
       "      <td>...</td>\n",
       "      <td>...</td>\n",
       "      <td>...</td>\n",
       "    </tr>\n",
       "    <tr>\n",
       "      <th>395</th>\n",
       "      <td>15691863</td>\n",
       "      <td>Female</td>\n",
       "      <td>46</td>\n",
       "      <td>41000</td>\n",
       "      <td>1</td>\n",
       "    </tr>\n",
       "    <tr>\n",
       "      <th>396</th>\n",
       "      <td>15706071</td>\n",
       "      <td>Male</td>\n",
       "      <td>51</td>\n",
       "      <td>23000</td>\n",
       "      <td>1</td>\n",
       "    </tr>\n",
       "    <tr>\n",
       "      <th>397</th>\n",
       "      <td>15654296</td>\n",
       "      <td>Female</td>\n",
       "      <td>50</td>\n",
       "      <td>20000</td>\n",
       "      <td>1</td>\n",
       "    </tr>\n",
       "    <tr>\n",
       "      <th>398</th>\n",
       "      <td>15755018</td>\n",
       "      <td>Male</td>\n",
       "      <td>36</td>\n",
       "      <td>33000</td>\n",
       "      <td>0</td>\n",
       "    </tr>\n",
       "    <tr>\n",
       "      <th>399</th>\n",
       "      <td>15594041</td>\n",
       "      <td>Female</td>\n",
       "      <td>49</td>\n",
       "      <td>36000</td>\n",
       "      <td>1</td>\n",
       "    </tr>\n",
       "  </tbody>\n",
       "</table>\n",
       "<p>400 rows × 5 columns</p>\n",
       "</div>"
      ],
      "text/plain": [
       "      User ID  Gender  Age  EstimatedSalary  Purchased\n",
       "0    15624510    Male   19            19000          0\n",
       "1    15810944    Male   35            20000          0\n",
       "2    15668575  Female   26            43000          0\n",
       "3    15603246  Female   27            57000          0\n",
       "4    15804002    Male   19            76000          0\n",
       "..        ...     ...  ...              ...        ...\n",
       "395  15691863  Female   46            41000          1\n",
       "396  15706071    Male   51            23000          1\n",
       "397  15654296  Female   50            20000          1\n",
       "398  15755018    Male   36            33000          0\n",
       "399  15594041  Female   49            36000          1\n",
       "\n",
       "[400 rows x 5 columns]"
      ]
     },
     "execution_count": 2,
     "metadata": {},
     "output_type": "execute_result"
    }
   ],
   "source": [
    "data"
   ]
  },
  {
   "cell_type": "code",
   "execution_count": 6,
   "id": "2680f607-bdd1-4c28-98d1-76fc1f517244",
   "metadata": {},
   "outputs": [
    {
     "data": {
      "text/plain": [
       "array([['Male', 19, 19000],\n",
       "       ['Male', 35, 20000],\n",
       "       ['Female', 26, 43000],\n",
       "       ...,\n",
       "       ['Female', 50, 20000],\n",
       "       ['Male', 36, 33000],\n",
       "       ['Female', 49, 36000]], dtype=object)"
      ]
     },
     "execution_count": 6,
     "metadata": {},
     "output_type": "execute_result"
    }
   ],
   "source": [
    "#getting data features\n",
    "#purchased is dependant variable and other is independant variable\n",
    "X=data.iloc[:,[1,2,3]].values\n",
    "#X=data.iloc[:,:-1].values\n",
    "X"
   ]
  },
  {
   "cell_type": "code",
   "execution_count": 8,
   "id": "fade4e1f-1e3a-45cb-bc1b-b32a12d7524f",
   "metadata": {},
   "outputs": [
    {
     "data": {
      "text/plain": [
       "array([0, 0, 0, 0, 0, 0, 0, 1, 0, 0, 0, 0, 0, 0, 0, 0, 1, 1, 1, 1, 1, 1,\n",
       "       1, 1, 1, 1, 1, 1, 0, 0, 0, 1, 0, 0, 0, 0, 0, 0, 0, 0, 0, 0, 0, 0,\n",
       "       0, 0, 0, 0, 1, 0, 0, 0, 0, 0, 0, 0, 0, 0, 0, 0, 0, 0, 0, 1, 0, 0,\n",
       "       0, 0, 0, 0, 0, 0, 0, 0, 0, 1, 0, 0, 0, 0, 0, 0, 0, 0, 0, 1, 0, 0,\n",
       "       0, 0, 0, 0, 0, 0, 0, 0, 0, 1, 0, 0, 0, 0, 0, 1, 0, 0, 0, 0, 0, 0,\n",
       "       0, 0, 0, 0, 0, 0, 0, 0, 0, 0, 0, 0, 0, 0, 0, 0, 0, 0, 0, 0, 0, 0,\n",
       "       0, 0, 0, 0, 0, 1, 0, 0, 0, 0, 0, 0, 0, 0, 1, 0, 0, 0, 0, 0, 0, 0,\n",
       "       0, 0, 0, 0, 0, 1, 1, 0, 0, 0, 0, 0, 0, 0, 1, 0, 0, 0, 0, 0, 0, 0,\n",
       "       0, 0, 0, 0, 0, 0, 1, 0, 0, 0, 0, 0, 0, 0, 0, 0, 0, 0, 0, 0, 0, 0,\n",
       "       0, 0, 0, 0, 1, 0, 1, 0, 1, 0, 1, 0, 1, 1, 0, 0, 0, 1, 0, 0, 0, 1,\n",
       "       0, 1, 1, 1, 0, 0, 1, 1, 0, 1, 1, 0, 1, 1, 0, 1, 0, 0, 0, 1, 1, 0,\n",
       "       1, 1, 0, 1, 0, 1, 0, 1, 0, 0, 1, 1, 0, 1, 0, 0, 1, 1, 0, 1, 1, 0,\n",
       "       1, 1, 0, 0, 1, 0, 0, 1, 1, 1, 1, 1, 0, 1, 1, 1, 1, 0, 1, 1, 0, 1,\n",
       "       0, 1, 0, 1, 1, 1, 1, 0, 0, 0, 1, 1, 0, 1, 1, 1, 1, 1, 0, 0, 0, 1,\n",
       "       1, 0, 0, 1, 0, 1, 0, 1, 1, 0, 1, 0, 1, 1, 0, 1, 1, 0, 0, 0, 1, 1,\n",
       "       0, 1, 0, 0, 1, 0, 1, 0, 0, 1, 1, 0, 0, 1, 1, 0, 1, 1, 0, 0, 1, 0,\n",
       "       1, 0, 1, 1, 1, 0, 1, 0, 1, 1, 1, 0, 1, 1, 1, 1, 0, 1, 1, 1, 0, 1,\n",
       "       0, 1, 0, 0, 1, 1, 0, 1, 1, 1, 1, 1, 1, 0, 1, 1, 1, 1, 1, 1, 0, 1,\n",
       "       1, 1, 0, 1], dtype=int64)"
      ]
     },
     "execution_count": 8,
     "metadata": {},
     "output_type": "execute_result"
    }
   ],
   "source": [
    "y=data.iloc[:,-1].values\n",
    "y"
   ]
  },
  {
   "cell_type": "code",
   "execution_count": 11,
   "id": "35021baf-c05f-431a-ac1e-91e96a775bd5",
   "metadata": {},
   "outputs": [],
   "source": [
    "#preprocessing of dataset\n",
    "from sklearn.preprocessing import LabelEncoder\n",
    "le=LabelEncoder()"
   ]
  },
  {
   "cell_type": "code",
   "execution_count": 13,
   "id": "34430e6e-f7b0-4367-90b9-56b5eafdf686",
   "metadata": {},
   "outputs": [
    {
     "data": {
      "text/plain": [
       "array([[1, 19, 19000],\n",
       "       [1, 35, 20000],\n",
       "       [0, 26, 43000],\n",
       "       ...,\n",
       "       [0, 50, 20000],\n",
       "       [1, 36, 33000],\n",
       "       [0, 49, 36000]], dtype=object)"
      ]
     },
     "execution_count": 13,
     "metadata": {},
     "output_type": "execute_result"
    }
   ],
   "source": [
    "X[:,0]=le.fit_transform(X[:,0])\n",
    "X"
   ]
  },
  {
   "cell_type": "code",
   "execution_count": 14,
   "id": "eab89cfe-4e14-46e6-b6bb-edad80eff2f7",
   "metadata": {},
   "outputs": [],
   "source": [
    "#spliting train and test dataset\n",
    "from sklearn.model_selection import train_test_split\n",
    "X_train, X_test, y_train, y_test=train_test_split(X,y, test_size=0.2)"
   ]
  },
  {
   "cell_type": "code",
   "execution_count": 15,
   "id": "7ab83f15-9ef4-4be6-931a-549a893686d4",
   "metadata": {},
   "outputs": [
    {
     "data": {
      "text/plain": [
       "320"
      ]
     },
     "execution_count": 15,
     "metadata": {},
     "output_type": "execute_result"
    }
   ],
   "source": [
    "len(X_train)"
   ]
  },
  {
   "cell_type": "code",
   "execution_count": 16,
   "id": "558e46ce-7a9f-41c9-b750-76343040edbc",
   "metadata": {},
   "outputs": [
    {
     "data": {
      "text/plain": [
       "80"
      ]
     },
     "execution_count": 16,
     "metadata": {},
     "output_type": "execute_result"
    }
   ],
   "source": [
    "len(X_test)"
   ]
  },
  {
   "cell_type": "code",
   "execution_count": 18,
   "id": "2d3a4211-7242-463e-8fec-ef01b0f335ed",
   "metadata": {},
   "outputs": [
    {
     "data": {
      "text/plain": [
       "GaussianNB()"
      ]
     },
     "execution_count": 18,
     "metadata": {},
     "output_type": "execute_result"
    }
   ],
   "source": [
    "#create naive bayes classifier model\n",
    "from sklearn.naive_bayes import GaussianNB\n",
    "model=GaussianNB()\n",
    "model.fit(X_train,y_train)"
   ]
  },
  {
   "cell_type": "code",
   "execution_count": 21,
   "id": "48941157-d78e-4057-a567-6762f06538d3",
   "metadata": {},
   "outputs": [
    {
     "data": {
      "text/plain": [
       "array([0, 0, 1, 0, 0, 0, 1, 0, 0, 0, 0, 1, 1, 0, 1, 0, 0, 0, 0, 0, 1, 0,\n",
       "       0, 0, 0, 1, 1, 0, 0, 1, 0, 0, 0, 0, 0, 0, 0, 0, 1, 0, 0, 0, 0, 0,\n",
       "       0, 0, 0, 0, 0, 1, 1, 0, 0, 1, 0, 1, 0, 1, 0, 0, 0, 1, 0, 0, 0, 0,\n",
       "       0, 1, 1, 1, 0, 1, 0, 0, 0, 0, 0, 1, 0, 0], dtype=int64)"
      ]
     },
     "execution_count": 21,
     "metadata": {},
     "output_type": "execute_result"
    }
   ],
   "source": [
    "#predict the value\n",
    "y_pred=model.predict(X_test)\n",
    "y_pred #Purchased=1, unPurchased=0"
   ]
  },
  {
   "cell_type": "code",
   "execution_count": 20,
   "id": "bb9ec420-c8b0-4937-9a2f-9890262f8030",
   "metadata": {},
   "outputs": [
    {
     "data": {
      "text/plain": [
       "array([[0, 35, 23000],\n",
       "       [1, 27, 20000],\n",
       "       [1, 42, 104000],\n",
       "       [0, 35, 65000],\n",
       "       [0, 20, 36000],\n",
       "       [1, 39, 96000],\n",
       "       [1, 39, 134000],\n",
       "       [1, 38, 71000],\n",
       "       [1, 24, 23000],\n",
       "       [0, 23, 48000],\n",
       "       [1, 24, 58000],\n",
       "       [0, 59, 76000],\n",
       "       [0, 52, 114000],\n",
       "       [0, 37, 80000],\n",
       "       [0, 57, 33000],\n",
       "       [1, 41, 59000],\n",
       "       [0, 36, 50000],\n",
       "       [1, 45, 22000],\n",
       "       [1, 19, 70000],\n",
       "       [1, 40, 47000],\n",
       "       [1, 47, 20000],\n",
       "       [1, 35, 20000],\n",
       "       [1, 21, 72000],\n",
       "       [0, 24, 89000],\n",
       "       [0, 32, 117000],\n",
       "       [0, 48, 131000],\n",
       "       [1, 46, 79000],\n",
       "       [1, 41, 52000],\n",
       "       [1, 42, 64000],\n",
       "       [0, 49, 36000],\n",
       "       [0, 37, 93000],\n",
       "       [0, 33, 113000],\n",
       "       [1, 42, 65000],\n",
       "       [1, 38, 51000],\n",
       "       [1, 31, 76000],\n",
       "       [0, 28, 59000],\n",
       "       [0, 46, 41000],\n",
       "       [1, 37, 72000],\n",
       "       [1, 48, 41000],\n",
       "       [0, 26, 15000],\n",
       "       [1, 24, 19000],\n",
       "       [1, 40, 57000],\n",
       "       [1, 30, 107000],\n",
       "       [0, 24, 32000],\n",
       "       [0, 23, 82000],\n",
       "       [1, 41, 87000],\n",
       "       [0, 38, 80000],\n",
       "       [0, 47, 49000],\n",
       "       [1, 19, 19000],\n",
       "       [1, 49, 74000],\n",
       "       [1, 48, 33000],\n",
       "       [1, 30, 49000],\n",
       "       [0, 35, 57000],\n",
       "       [1, 37, 144000],\n",
       "       [1, 31, 74000],\n",
       "       [0, 58, 101000],\n",
       "       [1, 31, 18000],\n",
       "       [0, 47, 107000],\n",
       "       [1, 29, 61000],\n",
       "       [1, 25, 33000],\n",
       "       [1, 35, 108000],\n",
       "       [1, 49, 88000],\n",
       "       [0, 42, 80000],\n",
       "       [0, 26, 118000],\n",
       "       [1, 35, 58000],\n",
       "       [0, 33, 69000],\n",
       "       [0, 32, 117000],\n",
       "       [0, 27, 137000],\n",
       "       [1, 49, 28000],\n",
       "       [0, 48, 138000],\n",
       "       [0, 29, 47000],\n",
       "       [0, 48, 119000],\n",
       "       [0, 47, 50000],\n",
       "       [1, 22, 81000],\n",
       "       [0, 19, 21000],\n",
       "       [1, 18, 82000],\n",
       "       [1, 22, 18000],\n",
       "       [1, 49, 65000],\n",
       "       [0, 35, 44000],\n",
       "       [0, 45, 22000]], dtype=object)"
      ]
     },
     "execution_count": 20,
     "metadata": {},
     "output_type": "execute_result"
    }
   ],
   "source": [
    "X_test #male=1 , female=0 "
   ]
  },
  {
   "cell_type": "code",
   "execution_count": 22,
   "id": "1e0d1f5a-6b92-4f06-b3c3-19b53ec55ce8",
   "metadata": {},
   "outputs": [
    {
     "data": {
      "text/plain": [
       "0.825"
      ]
     },
     "execution_count": 22,
     "metadata": {},
     "output_type": "execute_result"
    }
   ],
   "source": [
    "#accuracy score\n",
    "model.score(X_test, y_test)"
   ]
  },
  {
   "cell_type": "code",
   "execution_count": 24,
   "id": "55fc5543-1b79-43b2-aff3-685abee978ba",
   "metadata": {},
   "outputs": [
    {
     "data": {
      "text/plain": [
       "82.5"
      ]
     },
     "execution_count": 24,
     "metadata": {},
     "output_type": "execute_result"
    }
   ],
   "source": [
    "0.825*100 #percentage"
   ]
  },
  {
   "cell_type": "code",
   "execution_count": null,
   "id": "08e07655-4f76-49f5-a43a-f7e4b4948646",
   "metadata": {},
   "outputs": [],
   "source": []
  }
 ],
 "metadata": {
  "kernelspec": {
   "display_name": "Python 3 (ipykernel)",
   "language": "python",
   "name": "python3"
  },
  "language_info": {
   "codemirror_mode": {
    "name": "ipython",
    "version": 3
   },
   "file_extension": ".py",
   "mimetype": "text/x-python",
   "name": "python",
   "nbconvert_exporter": "python",
   "pygments_lexer": "ipython3",
   "version": "3.9.13"
  }
 },
 "nbformat": 4,
 "nbformat_minor": 5
}
